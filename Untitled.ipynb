{
 "cells": [
  {
   "cell_type": "code",
   "execution_count": 5,
   "metadata": {},
   "outputs": [
    {
     "data": {
      "text/plain": [
       "undefined"
      ]
     },
     "execution_count": 5,
     "metadata": {},
     "output_type": "execute_result"
    },
    {
     "name": "stdout",
     "output_type": "stream",
     "text": [
      "null Result {\n",
      "  command: 'SELECT',\n",
      "  rowCount: 1,\n",
      "  oid: null,\n",
      "  rows: [ { now: 2021-07-05T19:16:26.037Z } ],\n",
      "  fields: [\n",
      "    Field {\n",
      "      name: 'now',\n",
      "      tableID: 0,\n",
      "      columnID: 0,\n",
      "      dataTypeID: 1184,\n",
      "      dataTypeSize: 8,\n",
      "      dataTypeModifier: -1,\n",
      "      format: 'text'\n",
      "    }\n",
      "  ],\n",
      "  _parsers: [ [Function: parseDate] ],\n",
      "  _types: TypeOverrides {\n",
      "    _types: {\n",
      "      getTypeParser: [Function: getTypeParser],\n",
      "      setTypeParser: [Function: setTypeParser],\n",
      "      arrayParser: [Object],\n",
      "      builtins: [Object]\n",
      "    },\n",
      "    text: {},\n",
      "    binary: {}\n",
      "  },\n",
      "  RowCtor: null,\n",
      "  rowAsArray: false\n",
      "}\n"
     ]
    }
   ],
   "source": [
    "conn.query(\"select now();\", (err,res) => {\n",
    "    console.log(err,res);\n",
    "})"
   ]
  }
 ],
 "metadata": {
  "kernelspec": {
   "display_name": "Javascript (Node.js)",
   "language": "javascript",
   "name": "javascript"
  },
  "language_info": {
   "file_extension": ".js",
   "mimetype": "application/javascript",
   "name": "javascript",
   "version": "14.17.0"
  }
 },
 "nbformat": 4,
 "nbformat_minor": 4
}
